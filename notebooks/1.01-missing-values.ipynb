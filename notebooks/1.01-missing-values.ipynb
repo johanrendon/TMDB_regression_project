{
 "cells": [
  {
   "cell_type": "code",
   "execution_count": 1,
   "id": "b43ff63f",
   "metadata": {},
   "outputs": [],
   "source": [
    "import os\n",
    "\n",
    "import pandas as pd\n",
    "import numpy as np\n",
    "import matplotlib.pyplot as plt\n",
    "import seaborn as sns"
   ]
  },
  {
   "cell_type": "code",
   "execution_count": 2,
   "id": "34f19fc5",
   "metadata": {},
   "outputs": [],
   "source": [
    "from select_features import FeatureSelectionHandler, SelectFeatures\n",
    "from handle_missing_values import MissingValueHandler, FillMissingValues"
   ]
  },
  {
   "cell_type": "code",
   "execution_count": 3,
   "id": "7cc00e74",
   "metadata": {},
   "outputs": [],
   "source": [
    "df = pd.read_csv(\"../data/raw/TMDB_movie_dataset_v11.csv\")"
   ]
  },
  {
   "cell_type": "code",
   "execution_count": 4,
   "id": "8a04aafc",
   "metadata": {},
   "outputs": [
    {
     "data": {
      "text/plain": [
       "Index(['id', 'title', 'vote_average', 'vote_count', 'status', 'release_date',\n",
       "       'revenue', 'runtime', 'adult', 'backdrop_path', 'budget', 'homepage',\n",
       "       'imdb_id', 'original_language', 'original_title', 'overview',\n",
       "       'popularity', 'poster_path', 'tagline', 'genres',\n",
       "       'production_companies', 'production_countries', 'spoken_languages',\n",
       "       'keywords'],\n",
       "      dtype='object')"
      ]
     },
     "execution_count": 4,
     "metadata": {},
     "output_type": "execute_result"
    }
   ],
   "source": [
    "df.columns"
   ]
  },
  {
   "cell_type": "code",
   "execution_count": 5,
   "id": "e51969c7",
   "metadata": {},
   "outputs": [],
   "source": [
    "features = ['vote_average', 'vote_count', 'revenue', 'runtime', 'budget', 'popularity', 'genres']"
   ]
  },
  {
   "cell_type": "code",
   "execution_count": 6,
   "id": "c7417cd4",
   "metadata": {},
   "outputs": [],
   "source": [
    "feature_selector = FeatureSelectionHandler(SelectFeatures())"
   ]
  },
  {
   "cell_type": "code",
   "execution_count": 7,
   "id": "2f38f97d",
   "metadata": {},
   "outputs": [
    {
     "name": "stderr",
     "output_type": "stream",
     "text": [
      "2025-08-11 16:33:00,389 - INFO - Executing selection with strategy.\n",
      "2025-08-11 16:33:00,390 - INFO - Selecting 7 features: ['vote_average', 'vote_count', 'revenue', 'runtime', 'budget', 'popularity', 'genres']\n",
      "2025-08-11 16:33:00,419 - INFO - Saving selected features to: ../data/interm/df_features_selected.csv\n"
     ]
    }
   ],
   "source": [
    "df = feature_selector.execute_selection(df, features, save=True, name=\"df_features_selected\")"
   ]
  },
  {
   "cell_type": "markdown",
   "id": "bd6b86a0",
   "metadata": {},
   "source": [
    "# Missing values"
   ]
  },
  {
   "cell_type": "code",
   "execution_count": 8,
   "id": "b7aec558",
   "metadata": {},
   "outputs": [
    {
     "data": {
      "text/plain": [
       "vote_average         0\n",
       "vote_count           0\n",
       "revenue              0\n",
       "runtime              0\n",
       "budget               0\n",
       "popularity           0\n",
       "genres          532576\n",
       "dtype: int64"
      ]
     },
     "execution_count": 8,
     "metadata": {},
     "output_type": "execute_result"
    }
   ],
   "source": [
    "df.isnull().sum()"
   ]
  },
  {
   "cell_type": "markdown",
   "id": "fb1aa4d2",
   "metadata": {},
   "source": [
    "`genres` feature has many null values. We will replace them with 'none' to process the entire column later."
   ]
  },
  {
   "cell_type": "code",
   "execution_count": 9,
   "id": "a0707e3b",
   "metadata": {},
   "outputs": [],
   "source": [
    "missing_handler = MissingValueHandler(FillMissingValues(method='constant', fill_value='none'))"
   ]
  },
  {
   "cell_type": "code",
   "execution_count": 10,
   "id": "168ba446",
   "metadata": {},
   "outputs": [
    {
     "name": "stderr",
     "output_type": "stream",
     "text": [
      "2025-08-11 16:33:54,222 - INFO - Executing missing value handling strategy.\n",
      "2025-08-11 16:33:54,223 - INFO - Filling missing values using method: constant\n",
      "2025-08-11 16:33:54,303 - INFO - Missing values filled.\n",
      "2025-08-11 16:33:54,304 - INFO - Saving DataFrame without missing values to: ../data/interm/df_not_NA.csv\n"
     ]
    }
   ],
   "source": [
    "df=missing_handler.handle_missing_values(df, save=True, name=\"df_not_NA\")"
   ]
  }
 ],
 "metadata": {
  "kernelspec": {
   "display_name": ".venv",
   "language": "python",
   "name": "python3"
  },
  "language_info": {
   "codemirror_mode": {
    "name": "ipython",
    "version": 3
   },
   "file_extension": ".py",
   "mimetype": "text/x-python",
   "name": "python",
   "nbconvert_exporter": "python",
   "pygments_lexer": "ipython3",
   "version": "3.13.5"
  }
 },
 "nbformat": 4,
 "nbformat_minor": 5
}
