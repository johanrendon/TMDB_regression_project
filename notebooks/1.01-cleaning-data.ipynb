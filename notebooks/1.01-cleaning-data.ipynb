{
 "cells": [
  {
   "cell_type": "code",
   "execution_count": 1,
   "id": "b43ff63f",
   "metadata": {},
   "outputs": [],
   "source": [
    "import os\n",
    "\n",
    "import pandas as pd\n",
    "import numpy as np\n",
    "import matplotlib.pyplot as plt\n",
    "import seaborn as sns"
   ]
  },
  {
   "cell_type": "code",
   "execution_count": 2,
   "id": "34f19fc5",
   "metadata": {},
   "outputs": [],
   "source": [
    "from data_cleaning import CleanHandler"
   ]
  },
  {
   "cell_type": "code",
   "execution_count": 3,
   "id": "7cc00e74",
   "metadata": {},
   "outputs": [],
   "source": [
    "df = pd.read_csv(\"../data/raw/TMDB_movie_dataset_v11.csv\")"
   ]
  },
  {
   "cell_type": "code",
   "execution_count": 4,
   "id": "8a04aafc",
   "metadata": {},
   "outputs": [
    {
     "data": {
      "text/plain": [
       "Index(['id', 'title', 'vote_average', 'vote_count', 'status', 'release_date',\n",
       "       'revenue', 'runtime', 'adult', 'backdrop_path', 'budget', 'homepage',\n",
       "       'imdb_id', 'original_language', 'original_title', 'overview',\n",
       "       'popularity', 'poster_path', 'tagline', 'genres',\n",
       "       'production_companies', 'production_countries', 'spoken_languages',\n",
       "       'keywords'],\n",
       "      dtype='object')"
      ]
     },
     "execution_count": 4,
     "metadata": {},
     "output_type": "execute_result"
    }
   ],
   "source": [
    "df.columns"
   ]
  },
  {
   "cell_type": "code",
   "execution_count": 5,
   "id": "e51969c7",
   "metadata": {},
   "outputs": [],
   "source": [
    "features = ['vote_average', 'vote_count', 'revenue', 'runtime', 'budget', 'popularity', 'genres']"
   ]
  },
  {
   "cell_type": "code",
   "execution_count": 6,
   "id": "c7417cd4",
   "metadata": {},
   "outputs": [
    {
     "name": "stderr",
     "output_type": "stream",
     "text": [
      "2025-08-11 17:18:34,103 - INFO - Selecting 7 features: ['vote_average', 'vote_count', 'revenue', 'runtime', 'budget', 'popularity', 'genres']\n",
      "2025-08-11 17:18:34,127 - INFO - Saving DataFrame to: ../data/interm/df_features_selected.csv\n"
     ]
    }
   ],
   "source": [
    "df=CleanHandler.select_features(df, features, save=True, name='df_features_selected')"
   ]
  },
  {
   "cell_type": "markdown",
   "id": "bd6b86a0",
   "metadata": {},
   "source": [
    "# Missing values"
   ]
  },
  {
   "cell_type": "code",
   "execution_count": 7,
   "id": "b7aec558",
   "metadata": {},
   "outputs": [
    {
     "data": {
      "text/plain": [
       "vote_average         0\n",
       "vote_count           0\n",
       "revenue              0\n",
       "runtime              0\n",
       "budget               0\n",
       "popularity           0\n",
       "genres          532576\n",
       "dtype: int64"
      ]
     },
     "execution_count": 7,
     "metadata": {},
     "output_type": "execute_result"
    }
   ],
   "source": [
    "df.isnull().sum()"
   ]
  },
  {
   "cell_type": "markdown",
   "id": "fb1aa4d2",
   "metadata": {},
   "source": [
    "`genres` feature has many null values. We will replace them with 'none' to process the entire column later."
   ]
  },
  {
   "cell_type": "code",
   "execution_count": 8,
   "id": "a0707e3b",
   "metadata": {},
   "outputs": [
    {
     "name": "stderr",
     "output_type": "stream",
     "text": [
      "2025-08-11 17:18:36,093 - INFO - Starting missing value cleaning with method: 'constant'\n",
      "2025-08-11 17:18:36,174 - INFO - Missing value cleaning process completed.\n",
      "2025-08-11 17:18:36,175 - INFO - Saving DataFrame to: ../data/interm/df_not_NA.csv\n"
     ]
    }
   ],
   "source": [
    "df = CleanHandler.clean_missing_values(df, method='constant', fill_value='none', save=True, name='df_not_NA')"
   ]
  },
  {
   "cell_type": "code",
   "execution_count": 9,
   "id": "311c84ec",
   "metadata": {},
   "outputs": [
    {
     "name": "stderr",
     "output_type": "stream",
     "text": [
      "2025-08-11 17:18:37,968 - INFO - Removing rows with invalid numeric values.\n",
      "2025-08-11 17:18:37,974 - INFO - Saving DataFrame to: ../data/interm/invalid_rows_remove.csv\n"
     ]
    }
   ],
   "source": [
    "df = CleanHandler.remove_invalid_rows(df, save = True, name='invalid_rows_remove')"
   ]
  }
 ],
 "metadata": {
  "kernelspec": {
   "display_name": ".venv",
   "language": "python",
   "name": "python3"
  },
  "language_info": {
   "codemirror_mode": {
    "name": "ipython",
    "version": 3
   },
   "file_extension": ".py",
   "mimetype": "text/x-python",
   "name": "python",
   "nbconvert_exporter": "python",
   "pygments_lexer": "ipython3",
   "version": "3.13.5"
  }
 },
 "nbformat": 4,
 "nbformat_minor": 5
}
