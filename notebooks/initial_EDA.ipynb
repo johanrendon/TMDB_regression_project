{
 "cells": [
  {
   "cell_type": "code",
   "execution_count": 3,
   "id": "b49f79e9",
   "metadata": {},
   "outputs": [],
   "source": [
    "original_df:pd.DataFrame = pd.read_csv(\"../data/raw/TMDB_movie_dataset_v11.csv\")"
   ]
  },
  {
   "cell_type": "code",
   "execution_count": 4,
   "id": "af6158fa",
   "metadata": {},
   "outputs": [
    {
     "data": {
      "text/html": [
       "<div>\n",
       "<style scoped>\n",
       "    .dataframe tbody tr th:only-of-type {\n",
       "        vertical-align: middle;\n",
       "    }\n",
       "\n",
       "    .dataframe tbody tr th {\n",
       "        vertical-align: top;\n",
       "    }\n",
       "\n",
       "    .dataframe thead th {\n",
       "        text-align: right;\n",
       "    }\n",
       "</style>\n",
       "<table border=\"1\" class=\"dataframe\">\n",
       "  <thead>\n",
       "    <tr style=\"text-align: right;\">\n",
       "      <th></th>\n",
       "      <th>id</th>\n",
       "      <th>title</th>\n",
       "      <th>vote_average</th>\n",
       "      <th>vote_count</th>\n",
       "      <th>status</th>\n",
       "      <th>release_date</th>\n",
       "      <th>revenue</th>\n",
       "      <th>runtime</th>\n",
       "      <th>adult</th>\n",
       "      <th>backdrop_path</th>\n",
       "      <th>...</th>\n",
       "      <th>original_title</th>\n",
       "      <th>overview</th>\n",
       "      <th>popularity</th>\n",
       "      <th>poster_path</th>\n",
       "      <th>tagline</th>\n",
       "      <th>genres</th>\n",
       "      <th>production_companies</th>\n",
       "      <th>production_countries</th>\n",
       "      <th>spoken_languages</th>\n",
       "      <th>keywords</th>\n",
       "    </tr>\n",
       "  </thead>\n",
       "  <tbody>\n",
       "    <tr>\n",
       "      <th>0</th>\n",
       "      <td>27205</td>\n",
       "      <td>Inception</td>\n",
       "      <td>8.364</td>\n",
       "      <td>34495</td>\n",
       "      <td>Released</td>\n",
       "      <td>2010-07-15</td>\n",
       "      <td>825532764</td>\n",
       "      <td>148</td>\n",
       "      <td>False</td>\n",
       "      <td>/8ZTVqvKDQ8emSGUEMjsS4yHAwrp.jpg</td>\n",
       "      <td>...</td>\n",
       "      <td>Inception</td>\n",
       "      <td>Cobb, a skilled thief who commits corporate es...</td>\n",
       "      <td>83.952</td>\n",
       "      <td>/oYuLEt3zVCKq57qu2F8dT7NIa6f.jpg</td>\n",
       "      <td>Your mind is the scene of the crime.</td>\n",
       "      <td>Action, Science Fiction, Adventure</td>\n",
       "      <td>Legendary Pictures, Syncopy, Warner Bros. Pict...</td>\n",
       "      <td>United Kingdom, United States of America</td>\n",
       "      <td>English, French, Japanese, Swahili</td>\n",
       "      <td>rescue, mission, dream, airplane, paris, franc...</td>\n",
       "    </tr>\n",
       "    <tr>\n",
       "      <th>1</th>\n",
       "      <td>157336</td>\n",
       "      <td>Interstellar</td>\n",
       "      <td>8.417</td>\n",
       "      <td>32571</td>\n",
       "      <td>Released</td>\n",
       "      <td>2014-11-05</td>\n",
       "      <td>701729206</td>\n",
       "      <td>169</td>\n",
       "      <td>False</td>\n",
       "      <td>/pbrkL804c8yAv3zBZR4QPEafpAR.jpg</td>\n",
       "      <td>...</td>\n",
       "      <td>Interstellar</td>\n",
       "      <td>The adventures of a group of explorers who mak...</td>\n",
       "      <td>140.241</td>\n",
       "      <td>/gEU2QniE6E77NI6lCU6MxlNBvIx.jpg</td>\n",
       "      <td>Mankind was born on Earth. It was never meant ...</td>\n",
       "      <td>Adventure, Drama, Science Fiction</td>\n",
       "      <td>Legendary Pictures, Syncopy, Lynda Obst Produc...</td>\n",
       "      <td>United Kingdom, United States of America</td>\n",
       "      <td>English</td>\n",
       "      <td>rescue, future, spacecraft, race against time,...</td>\n",
       "    </tr>\n",
       "    <tr>\n",
       "      <th>2</th>\n",
       "      <td>155</td>\n",
       "      <td>The Dark Knight</td>\n",
       "      <td>8.512</td>\n",
       "      <td>30619</td>\n",
       "      <td>Released</td>\n",
       "      <td>2008-07-16</td>\n",
       "      <td>1004558444</td>\n",
       "      <td>152</td>\n",
       "      <td>False</td>\n",
       "      <td>/nMKdUUepR0i5zn0y1T4CsSB5chy.jpg</td>\n",
       "      <td>...</td>\n",
       "      <td>The Dark Knight</td>\n",
       "      <td>Batman raises the stakes in his war on crime. ...</td>\n",
       "      <td>130.643</td>\n",
       "      <td>/qJ2tW6WMUDux911r6m7haRef0WH.jpg</td>\n",
       "      <td>Welcome to a world without rules.</td>\n",
       "      <td>Drama, Action, Crime, Thriller</td>\n",
       "      <td>DC Comics, Legendary Pictures, Syncopy, Isobel...</td>\n",
       "      <td>United Kingdom, United States of America</td>\n",
       "      <td>English, Mandarin</td>\n",
       "      <td>joker, sadism, chaos, secret identity, crime f...</td>\n",
       "    </tr>\n",
       "    <tr>\n",
       "      <th>3</th>\n",
       "      <td>19995</td>\n",
       "      <td>Avatar</td>\n",
       "      <td>7.573</td>\n",
       "      <td>29815</td>\n",
       "      <td>Released</td>\n",
       "      <td>2009-12-15</td>\n",
       "      <td>2923706026</td>\n",
       "      <td>162</td>\n",
       "      <td>False</td>\n",
       "      <td>/vL5LR6WdxWPjLPFRLe133jXWsh5.jpg</td>\n",
       "      <td>...</td>\n",
       "      <td>Avatar</td>\n",
       "      <td>In the 22nd century, a paraplegic Marine is di...</td>\n",
       "      <td>79.932</td>\n",
       "      <td>/kyeqWdyUXW608qlYkRqosgbbJyK.jpg</td>\n",
       "      <td>Enter the world of Pandora.</td>\n",
       "      <td>Action, Adventure, Fantasy, Science Fiction</td>\n",
       "      <td>Dune Entertainment, Lightstorm Entertainment, ...</td>\n",
       "      <td>United States of America, United Kingdom</td>\n",
       "      <td>English, Spanish</td>\n",
       "      <td>future, society, culture clash, space travel, ...</td>\n",
       "    </tr>\n",
       "    <tr>\n",
       "      <th>4</th>\n",
       "      <td>24428</td>\n",
       "      <td>The Avengers</td>\n",
       "      <td>7.710</td>\n",
       "      <td>29166</td>\n",
       "      <td>Released</td>\n",
       "      <td>2012-04-25</td>\n",
       "      <td>1518815515</td>\n",
       "      <td>143</td>\n",
       "      <td>False</td>\n",
       "      <td>/9BBTo63ANSmhC4e6r62OJFuK2GL.jpg</td>\n",
       "      <td>...</td>\n",
       "      <td>The Avengers</td>\n",
       "      <td>When an unexpected enemy emerges and threatens...</td>\n",
       "      <td>98.082</td>\n",
       "      <td>/RYMX2wcKCBAr24UyPD7xwmjaTn.jpg</td>\n",
       "      <td>Some assembly required.</td>\n",
       "      <td>Science Fiction, Action, Adventure</td>\n",
       "      <td>Marvel Studios</td>\n",
       "      <td>United States of America</td>\n",
       "      <td>English, Hindi, Russian</td>\n",
       "      <td>new york city, superhero, shield, based on com...</td>\n",
       "    </tr>\n",
       "  </tbody>\n",
       "</table>\n",
       "<p>5 rows × 24 columns</p>\n",
       "</div>"
      ],
      "text/plain": [
       "       id            title  vote_average  vote_count    status release_date  \\\n",
       "0   27205        Inception         8.364       34495  Released   2010-07-15   \n",
       "1  157336     Interstellar         8.417       32571  Released   2014-11-05   \n",
       "2     155  The Dark Knight         8.512       30619  Released   2008-07-16   \n",
       "3   19995           Avatar         7.573       29815  Released   2009-12-15   \n",
       "4   24428     The Avengers         7.710       29166  Released   2012-04-25   \n",
       "\n",
       "      revenue  runtime  adult                     backdrop_path  ...  \\\n",
       "0   825532764      148  False  /8ZTVqvKDQ8emSGUEMjsS4yHAwrp.jpg  ...   \n",
       "1   701729206      169  False  /pbrkL804c8yAv3zBZR4QPEafpAR.jpg  ...   \n",
       "2  1004558444      152  False  /nMKdUUepR0i5zn0y1T4CsSB5chy.jpg  ...   \n",
       "3  2923706026      162  False  /vL5LR6WdxWPjLPFRLe133jXWsh5.jpg  ...   \n",
       "4  1518815515      143  False  /9BBTo63ANSmhC4e6r62OJFuK2GL.jpg  ...   \n",
       "\n",
       "    original_title                                           overview  \\\n",
       "0        Inception  Cobb, a skilled thief who commits corporate es...   \n",
       "1     Interstellar  The adventures of a group of explorers who mak...   \n",
       "2  The Dark Knight  Batman raises the stakes in his war on crime. ...   \n",
       "3           Avatar  In the 22nd century, a paraplegic Marine is di...   \n",
       "4     The Avengers  When an unexpected enemy emerges and threatens...   \n",
       "\n",
       "  popularity                       poster_path  \\\n",
       "0     83.952  /oYuLEt3zVCKq57qu2F8dT7NIa6f.jpg   \n",
       "1    140.241  /gEU2QniE6E77NI6lCU6MxlNBvIx.jpg   \n",
       "2    130.643  /qJ2tW6WMUDux911r6m7haRef0WH.jpg   \n",
       "3     79.932  /kyeqWdyUXW608qlYkRqosgbbJyK.jpg   \n",
       "4     98.082   /RYMX2wcKCBAr24UyPD7xwmjaTn.jpg   \n",
       "\n",
       "                                             tagline  \\\n",
       "0               Your mind is the scene of the crime.   \n",
       "1  Mankind was born on Earth. It was never meant ...   \n",
       "2                  Welcome to a world without rules.   \n",
       "3                        Enter the world of Pandora.   \n",
       "4                            Some assembly required.   \n",
       "\n",
       "                                        genres  \\\n",
       "0           Action, Science Fiction, Adventure   \n",
       "1            Adventure, Drama, Science Fiction   \n",
       "2               Drama, Action, Crime, Thriller   \n",
       "3  Action, Adventure, Fantasy, Science Fiction   \n",
       "4           Science Fiction, Action, Adventure   \n",
       "\n",
       "                                production_companies  \\\n",
       "0  Legendary Pictures, Syncopy, Warner Bros. Pict...   \n",
       "1  Legendary Pictures, Syncopy, Lynda Obst Produc...   \n",
       "2  DC Comics, Legendary Pictures, Syncopy, Isobel...   \n",
       "3  Dune Entertainment, Lightstorm Entertainment, ...   \n",
       "4                                     Marvel Studios   \n",
       "\n",
       "                       production_countries  \\\n",
       "0  United Kingdom, United States of America   \n",
       "1  United Kingdom, United States of America   \n",
       "2  United Kingdom, United States of America   \n",
       "3  United States of America, United Kingdom   \n",
       "4                  United States of America   \n",
       "\n",
       "                     spoken_languages  \\\n",
       "0  English, French, Japanese, Swahili   \n",
       "1                             English   \n",
       "2                   English, Mandarin   \n",
       "3                    English, Spanish   \n",
       "4             English, Hindi, Russian   \n",
       "\n",
       "                                            keywords  \n",
       "0  rescue, mission, dream, airplane, paris, franc...  \n",
       "1  rescue, future, spacecraft, race against time,...  \n",
       "2  joker, sadism, chaos, secret identity, crime f...  \n",
       "3  future, society, culture clash, space travel, ...  \n",
       "4  new york city, superhero, shield, based on com...  \n",
       "\n",
       "[5 rows x 24 columns]"
      ]
     },
     "execution_count": 4,
     "metadata": {},
     "output_type": "execute_result"
    }
   ],
   "source": [
    "df = original_df.copy()\n",
    "df.head()"
   ]
  },
  {
   "cell_type": "code",
   "execution_count": 7,
   "id": "6f3026ff",
   "metadata": {},
   "outputs": [
    {
     "name": "stdout",
     "output_type": "stream",
     "text": [
      "Columnas: 24 \n",
      "Filas: 1264807 \n",
      "Null values: 8063555 \n",
      "Duplicated Values: 375\n",
      "====================\n",
      "<class 'pandas.core.frame.DataFrame'>\n",
      "RangeIndex: 1264807 entries, 0 to 1264806\n",
      "Data columns (total 24 columns):\n",
      " #   Column                Non-Null Count    Dtype  \n",
      "---  ------                --------------    -----  \n",
      " 0   id                    1264807 non-null  int64  \n",
      " 1   title                 1264794 non-null  object \n",
      " 2   vote_average          1264807 non-null  float64\n",
      " 3   vote_count            1264807 non-null  int64  \n",
      " 4   status                1264807 non-null  object \n",
      " 5   release_date          1021233 non-null  object \n",
      " 6   revenue               1264807 non-null  int64  \n",
      " 7   runtime               1264807 non-null  int64  \n",
      " 8   adult                 1264807 non-null  bool   \n",
      " 9   backdrop_path         326045 non-null   object \n",
      " 10  budget                1264807 non-null  int64  \n",
      " 11  homepage              132027 non-null   object \n",
      " 12  imdb_id               633013 non-null   object \n",
      " 13  original_language     1264807 non-null  object \n",
      " 14  original_title        1264794 non-null  object \n",
      " 15  overview              989992 non-null   object \n",
      " 16  popularity            1264807 non-null  float64\n",
      " 17  poster_path           841370 non-null   object \n",
      " 18  tagline               176989 non-null   object \n",
      " 19  genres                732552 non-null   object \n",
      " 20  production_companies  555511 non-null   object \n",
      " 21  production_countries  677490 non-null   object \n",
      " 22  spoken_languages      700545 non-null   object \n",
      " 23  keywords              327388 non-null   object \n",
      "dtypes: bool(1), float64(2), int64(5), object(16)\n",
      "memory usage: 223.1+ MB\n"
     ]
    }
   ],
   "source": [
    "print(f\"Columnas: {df.shape[1]} \\nFilas: {df.shape[0]} \\nNull values: {df.isnull().sum().sum()} \\nDuplicated Values: {df.duplicated().sum()}\")\n",
    "print(\"=\"*20)\n",
    "df.info()"
   ]
  },
  {
   "cell_type": "markdown",
   "id": "02742ab5",
   "metadata": {},
   "source": [
    " ## Datos nulos y duplicados"
   ]
  },
  {
   "cell_type": "code",
   "execution_count": null,
   "id": "8a6884de",
   "metadata": {},
   "outputs": [
    {
     "name": "stdout",
     "output_type": "stream",
     "text": [
      "La columna title tiene 13 valores nulos. Es el 0.001% de los datos.\n",
      "La columna release_date tiene 243574 valores nulos. Es el 19.258% de los datos.\n",
      "La columna backdrop_path tiene 938762 valores nulos. Es el 74.222% de los datos.\n",
      "La columna homepage tiene 1132780 valores nulos. Es el 89.561% de los datos.\n",
      "La columna imdb_id tiene 631794 valores nulos. Es el 49.952% de los datos.\n",
      "La columna original_title tiene 13 valores nulos. Es el 0.001% de los datos.\n",
      "La columna overview tiene 274815 valores nulos. Es el 21.728% de los datos.\n",
      "La columna poster_path tiene 423437 valores nulos. Es el 33.478% de los datos.\n",
      "La columna tagline tiene 1087818 valores nulos. Es el 86.007% de los datos.\n",
      "La columna genres tiene 532255 valores nulos. Es el 42.082% de los datos.\n",
      "La columna production_companies tiene 709296 valores nulos. Es el 56.079% de los datos.\n",
      "La columna production_countries tiene 587317 valores nulos. Es el 46.435% de los datos.\n",
      "La columna spoken_languages tiene 564262 valores nulos. Es el 44.612% de los datos.\n",
      "La columna keywords tiene 937419 valores nulos. Es el 74.116% de los datos.\n",
      "El dataset tiene 375 datos duplicados\n"
     ]
    }
   ],
   "source": [
    "# Vemos en que columnas hay datos nulos\n",
    "features_null_values = df.loc[:, df.isnull().sum() > 0].columns.tolist()\n",
    "for feature in features_null_values:\n",
    "  null_values = df[feature].isnull().sum()\n",
    "  percentage = round((null_values/df.shape[0]) * 100, 3)\n",
    "  print(f\"La columna {feature} tiene {null_values} valores nulos. Es el {percentage:.2f}% de los datos.\")\n",
    "\n",
    "print(f\"El dataset tiene {df.duplicated().sum()} datos duplicados\")"
   ]
  },
  {
   "cell_type": "markdown",
   "id": "836989b7",
   "metadata": {},
   "source": [
    "Eliminamos los datos duplicados"
   ]
  },
  {
   "cell_type": "code",
   "execution_count": 10,
   "id": "54f9fcdc",
   "metadata": {},
   "outputs": [],
   "source": [
    "df = df.drop_duplicates()"
   ]
  },
  {
   "cell_type": "markdown",
   "id": "e35966e2",
   "metadata": {},
   "source": [
    "# Análisis univariado"
   ]
  },
  {
   "cell_type": "markdown",
   "id": "d36a7742",
   "metadata": {},
   "source": [
    "## Release date"
   ]
  },
  {
   "cell_type": "code",
   "execution_count": 7,
   "id": "a564fa18",
   "metadata": {},
   "outputs": [],
   "source": [
    "# Lo convertimos a datetime para trabajarlo más comodamente.\n",
    "df['release_date'] = pd.to_datetime(df[\"release_date\"])"
   ]
  },
  {
   "cell_type": "code",
   "execution_count": 10,
   "id": "3b1d9286",
   "metadata": {},
   "outputs": [],
   "source": [
    "def date_separation(dataframe:pd.DataFrame, date_name:str) -> None:\n",
    "    dataframe[\"year\"] = dataframe[date_name].dt.year\n",
    "    dataframe[\"month\"] = dataframe[date_name].dt.month\n",
    "    dataframe[\"day\"] = dataframe[date_name].dt.day"
   ]
  },
  {
   "cell_type": "code",
   "execution_count": 11,
   "id": "14fec985",
   "metadata": {},
   "outputs": [],
   "source": [
    "date_separation(df, \"release_date\")"
   ]
  },
  {
   "cell_type": "code",
   "execution_count": 59,
   "id": "bf90c0ca",
   "metadata": {},
   "outputs": [
    {
     "data": {
      "text/plain": [
       "<Axes: title={'center': 'Tendencia de lanzamientos por año'}, xlabel='release_date', ylabel='Cantidad de peliculas'>"
      ]
     },
     "execution_count": 59,
     "metadata": {},
     "output_type": "execute_result"
    },
    {
     "data": {
      "image/png": "[encoded data removed]",
      "text/plain": [
       "<Figure size 2000x1000 with 2 Axes>"
      ]
     },
     "metadata": {},
     "output_type": "display_data"
    }
   ],
   "source": [
    "fig, axes = plt.subplots(1, 2, figsize=(20, 10))\n",
    "\n",
    "sns.boxplot(\n",
    "    data=df,\n",
    "    x=\"year\",\n",
    "    ax=axes[0]\n",
    ")\n",
    "\n",
    "# Esto permite analizar la tendencia por año. Cuantas películas se lanzaron ese año. \n",
    "# df.set_index convierte una columna en el nuevo indice\n",
    "# resample agrupa los datos por fecha. Puede ser YE, M, W, Q\n",
    "\n",
    "df.set_index('release_date').resample('YE').size().plot(title='Tendencia de lanzamientos por año', ylabel=\"Cantidad de peliculas\", ax=axes[1])"
   ]
  },
  {
   "cell_type": "markdown",
   "id": "2046ac9e",
   "metadata": {},
   "source": [
    "Vamos a analizar los outliers por año."
   ]
  },
  {
   "cell_type": "code",
   "execution_count": 33,
   "id": "783a89a2",
   "metadata": {},
   "outputs": [],
   "source": [
    "def extract_outliers(dataframe:pd.DataFrame, feature:str) -> None:\n",
    "\n",
    "    Q1 = df[feature].quantile(0.25)\n",
    "    Q3 = df[feature].quantile(0.75)\n",
    "    IQR = Q3 - Q1\n",
    "\n",
    "    li = Q1 - 1.5 * IQR\n",
    "    ls = Q1 + 1.5 * IQR\n",
    "\n",
    "    outliers = df[(df[feature] < li) | (df[feature] > ls)]\n",
    "    no_outliers = df[(df[feature] >= li) & (df[feature] <= ls)]\n",
    "    \n",
    "    return outliers, no_outliers"
   ]
  },
  {
   "cell_type": "code",
   "execution_count": 34,
   "id": "a049a13d",
   "metadata": {},
   "outputs": [],
   "source": [
    "outliers_year, no_outliers_year = extract_outliers(df, \"year\")"
   ]
  },
  {
   "cell_type": "code",
   "execution_count": 36,
   "id": "2ac79e59",
   "metadata": {},
   "outputs": [
    {
     "data": {
      "text/plain": [
       "<Axes: xlabel='year'>"
      ]
     },
     "execution_count": 36,
     "metadata": {},
     "output_type": "execute_result"
    },
    {
     "data": {
      "image/png": "[encoded data removed]",
      "text/plain": [
       "<Figure size 640x480 with 1 Axes>"
      ]
     },
     "metadata": {},
     "output_type": "display_data"
    }
   ],
   "source": [
    "sns.boxplot(\n",
    "    data=no_outliers_year,\n",
    "    x='year'\n",
    ")"
   ]
  }
 ],
 "metadata": {
  "kernelspec": {
   "display_name": ".venv",
   "language": "python",
   "name": "python3"
  },
  "language_info": {
   "codemirror_mode": {
    "name": "ipython",
    "version": 3
   },
   "file_extension": ".py",
   "mimetype": "text/x-python",
   "name": "python",
   "nbconvert_exporter": "python",
   "pygments_lexer": "ipython3",
   "version": "3.13.5"
  }
 },
 "nbformat": 4,
 "nbformat_minor": 5
}
